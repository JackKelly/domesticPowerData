{
 "cells": [
  {
   "cell_type": "code",
   "execution_count": 58,
   "metadata": {
    "collapsed": false
   },
   "outputs": [],
   "source": [
    "from __future__ import print_function, division\n",
    "import matplotlib.pyplot as plt\n",
    "import pandas as pd\n",
    "import numpy as np"
   ]
  },
  {
   "cell_type": "code",
   "execution_count": 108,
   "metadata": {
    "collapsed": false
   },
   "outputs": [
    {
     "name": "stdout",
     "output_type": "stream",
     "text": [
      "[1, 5, 6, 7, 8, 9, 10, 11, 12, 13, 14, 15, 16, 17, 18, 19, 20, 21, 22, 23, 24, 25, 26, 27, 28, 29, 30, 31, 32, 33, 99]\n"
     ]
    }
   ],
   "source": [
    "labels = pd.read_csv(\n",
    "    'labels.dat', sep=' ', index_col=0, header=None, names=['label'])\n",
    "channels = labels.index\n",
    "print(list(channels))"
   ]
  },
  {
   "cell_type": "code",
   "execution_count": 160,
   "metadata": {
    "collapsed": false
   },
   "outputs": [
    {
     "name": "stdout",
     "output_type": "stream",
     "text": [
      "channel_01.dat\n",
      "channel_05.dat\n",
      "channel_06.dat\n",
      "channel_07.dat\n",
      "channel_08.dat\n",
      "channel_09.dat\n",
      "channel_10.dat\n",
      "channel_11.dat\n",
      "channel_12.dat\n",
      "channel_13.dat\n",
      "channel_14.dat\n",
      "channel_15.dat\n",
      "channel_16.dat\n",
      "channel_17.dat\n",
      "channel_18.dat\n",
      "channel_19.dat\n",
      "channel_20.dat\n",
      "channel_21.dat\n",
      "channel_22.dat\n",
      "channel_23.dat\n",
      "channel_24.dat\n",
      "channel_25.dat\n",
      "channel_26.dat\n",
      "channel_27.dat\n",
      "channel_28.dat\n",
      "channel_29.dat\n",
      "channel_30.dat\n",
      "channel_31.dat\n",
      "channel_32.dat\n",
      "channel_33.dat\n",
      "channel_99.dat\n"
     ]
    }
   ],
   "source": [
    "# Load Curent Cost data from disk\n",
    "\n",
    "all_data = {}\n",
    "\n",
    "START = 1325376000\n",
    "END = 1388534400\n",
    "\n",
    "\n",
    "def to_datetime(unix_timestamps):\n",
    "    datetimes = pd.to_datetime(unix_timestamps, unit='s', utc=True)\n",
    "    datetimes = datetimes.tz_convert('Europe/London')\n",
    "    return datetimes\n",
    "\n",
    "\n",
    "for i, channel in enumerate(channels):\n",
    "    filename = 'channel_{:02d}.dat'.format(channel)\n",
    "    print(filename)\n",
    "    data = pd.read_csv(\n",
    "        filename, sep=' ', index_col='index',\n",
    "        usecols=['index', 'power'], \n",
    "        names=['index', 'power', 'device', ''])\n",
    "    data.index = data.index.astype(np.int32)\n",
    "    \n",
    "    # Remove spurious time stamps\n",
    "    data = data[data.index >= START]\n",
    "    data = data[data.index < END]\n",
    "    \n",
    "    # convert\n",
    "    data.index = to_datetime(data.index)\n",
    "    \n",
    "    # Save data\n",
    "    all_data[channel] = data"
   ]
  },
  {
   "cell_type": "code",
   "execution_count": 165,
   "metadata": {
    "collapsed": false
   },
   "outputs": [],
   "source": [
    "# Plot periods where there are no samples for MAX_SAMPLE_PERIOD\n",
    "\n",
    "MAX_SAMPLE_PERIOD = 300\n",
    "\n",
    "\n",
    "def get_dropouts(index):\n",
    "    \"\"\"\n",
    "    Parameters\n",
    "    ----------\n",
    "    index : Unix timestamps\n",
    "    \n",
    "    Returns\n",
    "    -------\n",
    "    dropouts : pandas Series\n",
    "        Each row is a period where data is missing in `index`.\n",
    "        The index is the start of the period, the value is \n",
    "        the end of the period.\n",
    "    \"\"\"\n",
    "    diff = np.diff(index.astype(int) / 1E9)\n",
    "    i_above_thresh = np.where(diff > MAX_SAMPLE_PERIOD)[0]\n",
    "    index = to_datetime(index)\n",
    "    dropout_starts = index[i_above_thresh]\n",
    "    dropout_ends = index[i_above_thresh+1]\n",
    "    dropouts = pd.Series(dropout_ends, index=dropout_starts)\n",
    "    return dropouts\n",
    "\n",
    "\n",
    "ax = plt.gca()\n",
    "for i, data in enumerate(all_data.values()):\n",
    "    dropouts = get_dropouts(data.index)\n",
    "    color = 'k'\n",
    "    for start, end in dropouts.iteritems():\n",
    "        ax.plot([start, end], [i, i], \n",
    "                linewidth=5, color=color)\n",
    "plt.show()"
   ]
  },
  {
   "cell_type": "code",
   "execution_count": 159,
   "metadata": {
    "collapsed": false
   },
   "outputs": [],
   "source": [
    "# Just try plotting the index of all the data\n",
    "\n",
    "ax = plt.gca()\n",
    "for i, data in enumerate(all_data.values()):\n",
    "    ax.scatter(\n",
    "        to_datetime(data.index), [i]*len(data),\n",
    "        marker=',', alpha=0.25, s=1\n",
    "    )\n",
    "plt.show()"
   ]
  },
  {
   "cell_type": "code",
   "execution_count": 211,
   "metadata": {
    "collapsed": true
   },
   "outputs": [],
   "source": [
    "# Dropouts rates per minute\n",
    "# This is probably the most informative plot!\n",
    "\n",
    "dropout_rates = {}\n",
    "for channel, data in all_data.iteritems():\n",
    "    count = pd.Series(1, index=data.index)\n",
    "    dropout_rate = count.resample(rule='T', how='sum').fillna(0) / 10\n",
    "    dropout_rates[channel] = dropout_rate\n",
    "dropout_rates = pd.DataFrame(dropout_rates)"
   ]
  },
  {
   "cell_type": "code",
   "execution_count": 262,
   "metadata": {
    "collapsed": false
   },
   "outputs": [],
   "source": [
    "dropout_rates_windowed = dropout_rates.loc[\n",
    "    \"2012-08-07 09:00\":\"2012-08-07 15:00\"]\n",
    "img = dropout_rates_windowed.values.T"
   ]
  },
  {
   "cell_type": "code",
   "execution_count": 263,
   "metadata": {
    "collapsed": false
   },
   "outputs": [],
   "source": [
    "from matplotlib.cm import Blues\n",
    "import matplotlib.dates as mdates"
   ]
  },
  {
   "cell_type": "code",
   "execution_count": 282,
   "metadata": {
    "collapsed": false
   },
   "outputs": [],
   "source": [
    "index = dropout_rates_windowed.index\n",
    "ax = plt.gca()\n",
    "im = ax.imshow(\n",
    "    img, aspect='auto', interpolation='none', cmap=Blues,\n",
    "    extent=(\n",
    "        mdates._to_ordinalf(index[0]),\n",
    "        mdates._to_ordinalf(index[-1]),\n",
    "        0, len(channels)\n",
    "    ) # left, right, bottom, top\n",
    ")\n",
    "\n",
    "# Format\n",
    "ax.xaxis.set_major_formatter(\n",
    "    mdates.DateFormatter('%Y-%m-%d %H:%M', tz=index.tzinfo))\n",
    "ax.xaxis.set_major_locator(\n",
    "    mdates.HourLocator())\n",
    "ax.set_xlabel(\"Time\")\n",
    "ax.set_ylabel(\"Channel\")\n",
    "ax.set_title(\"Proportion of successful packets per minute\")\n",
    "plt.colorbar(im)\n",
    "\n",
    "fig = plt.gcf()\n",
    "fig.autofmt_xdate()\n",
    "plt.show()"
   ]
  },
  {
   "cell_type": "code",
   "execution_count": null,
   "metadata": {
    "collapsed": true
   },
   "outputs": [],
   "source": []
  }
 ],
 "metadata": {
  "kernelspec": {
   "display_name": "Python 2",
   "language": "python",
   "name": "python2"
  },
  "language_info": {
   "codemirror_mode": {
    "name": "ipython",
    "version": 2
   },
   "file_extension": ".py",
   "mimetype": "text/x-python",
   "name": "python",
   "nbconvert_exporter": "python",
   "pygments_lexer": "ipython2",
   "version": "2.7.9"
  }
 },
 "nbformat": 4,
 "nbformat_minor": 0
}
